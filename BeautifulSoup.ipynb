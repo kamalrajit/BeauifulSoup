{
 "cells": [
  {
   "cell_type": "code",
   "execution_count": 1,
   "id": "1382c195",
   "metadata": {},
   "outputs": [],
   "source": [
    "import requests\n",
    "from bs4 import BeautifulSoup\n",
    "\n",
    "import pandas as pd\n",
    "import numpy as np\n",
    "import matplotlib.pyplot as plt\n",
    "import seaborn as sns\n",
    "\n",
    "from wordcloud import WordCloud, STOPWORDS, ImageColorGenerator\n",
    "\n",
    "import re\n",
    "import string\n",
    "\n",
    "import nltk\n",
    "from nltk.tokenize import word_tokenize\n",
    "from nltk.corpus import stopwords\n",
    "from nltk.stem import WordNetLemmatizer\n",
    "from sklearn.feature_extraction.text import TfidfVectorizer"
   ]
  },
  {
   "cell_type": "code",
   "execution_count": 2,
   "id": "97f9ca71",
   "metadata": {},
   "outputs": [
    {
     "name": "stdout",
     "output_type": "stream",
     "text": [
      "                                          ReviewText  Rating  \\\n",
      "0  Not Verified | Top Ten REASONS to not use Brit...     1.0   \n",
      "1  Not Verified |  Easy check in on the way to He...     1.0   \n",
      "2  ✅ Trip Verified |  Online check in worked fine...     1.0   \n",
      "3  ✅ Trip Verified |. The BA first lounge at Term...     1.0   \n",
      "4  Not Verified | Paid a quick visit to Nice yest...     1.0   \n",
      "\n",
      "                                        Review     ReviewDate  \n",
      "0          \"cancel your flight without notice\"  23rd May 2023  \n",
      "1               \"flights changed with no cost\"  23rd May 2023  \n",
      "2                 \"Cheap, quick and efficient\"  23rd May 2023  \n",
      "3           \"the worst major European airline\"  22nd May 2023  \n",
      "4  \"do not think the fare was worth the money\"  22nd May 2023  \n"
     ]
    }
   ],
   "source": [
    "# Create empty lists to store the review data\n",
    "review_text = []\n",
    "rating = []\n",
    "review = []\n",
    "review_date = []\n",
    "\n",
    "# Loop through the first 30 pages of the reviews\n",
    "for i in range(1, 355):\n",
    "    # Define the URL to scrape\n",
    "    url = f\"https://www.airlinequality.com/airline-reviews/british-airways/page/{i}/\"\n",
    "\n",
    "    # Send a GET request to the URL\n",
    "    response = requests.get(url)\n",
    "\n",
    "    # Parse the HTML content of the page using Beautiful Soup\n",
    "    soup = BeautifulSoup(response.content, 'html.parser')\n",
    "\n",
    "    # Find all the review elements on the page\n",
    "    reviews = soup.find_all('article', {'itemprop': 'review'})\n",
    "\n",
    "    # Loop through each review element and extract the data\n",
    "    for r in reviews:\n",
    "        # Check if the review is for British Airways\n",
    "        airline_name = r.find('span', {'itemprop': 'name'}).text.strip()\n",
    "        # Extract the review text\n",
    "        review_text.append(r.find('div', {'class': 'text_content'}).text.strip())\n",
    "            \n",
    "        # Extract the rating\n",
    "        rating_value = r.find('span', {'class': 'star fill'}).text.strip()\n",
    "        rating.append(float(rating_value))\n",
    "        \n",
    "        # Extract the review\n",
    "        review.append(r.find('h2', {'class': 'text_header'}).text.strip())\n",
    "        \n",
    "        # Extract the review date\n",
    "        review_date.append(r.find('time', {'itemprop': 'datePublished'}).text.strip())\n",
    "\n",
    "# Create a pandas DataFrame from the extracted data\n",
    "df = pd.DataFrame({'ReviewText': review_text, 'Rating': rating, 'Review': review, 'ReviewDate': review_date})\n",
    "\n",
    "# Print the DataFrame\n",
    "print(df.head())\n"
   ]
  },
  {
   "cell_type": "code",
   "execution_count": 3,
   "id": "f38dbe17",
   "metadata": {},
   "outputs": [
    {
     "data": {
      "text/plain": [
       "(3540, 4)"
      ]
     },
     "execution_count": 3,
     "metadata": {},
     "output_type": "execute_result"
    }
   ],
   "source": [
    "df.shape"
   ]
  },
  {
   "cell_type": "code",
   "execution_count": 4,
   "id": "d4edf3b8",
   "metadata": {},
   "outputs": [
    {
     "data": {
      "text/html": [
       "<div><div id=83324241-d817-4477-9598-44df6373d6ec style=\"display:none; background-color:#9D6CFF; color:white; width:200px; height:30px; padding-left:5px; border-radius:4px; flex-direction:row; justify-content:space-around; align-items:center;\" onmouseover=\"this.style.backgroundColor='#BA9BF8'\" onmouseout=\"this.style.backgroundColor='#9D6CFF'\" onclick=\"window.commands?.execute('create-mitosheet-from-dataframe-output');\">See Full Dataframe in Mito</div> <script> if (window.commands?.hasCommand('create-mitosheet-from-dataframe-output')) document.getElementById('83324241-d817-4477-9598-44df6373d6ec').style.display = 'flex' </script> <table border=\"1\" class=\"dataframe\">\n",
       "  <thead>\n",
       "    <tr style=\"text-align: right;\">\n",
       "      <th></th>\n",
       "      <th>ReviewText</th>\n",
       "      <th>Rating</th>\n",
       "      <th>Review</th>\n",
       "      <th>ReviewDate</th>\n",
       "    </tr>\n",
       "  </thead>\n",
       "  <tbody>\n",
       "    <tr>\n",
       "      <th>0</th>\n",
       "      <td>Not Verified | Top Ten REASONS to not use British Airways To all: Be Aware and be on Notice- Travel at your own risk I have travelled for years on many different airlines, and I have to say that British Airways ranks as one of the top two most horrible airlines to fly. Don’t waste your time or money. Customer service is non-existent. Please be on notice that if you purchase a ticket from them and once, they have your money, you can kiss any customer service and or help resolving your issue goodbye. We used them to travel to Europe and it was the worst experience I have had with an airline in years. When you work hard and save your money to travel, you expect a good experience. Welp not with this company. Who I am sure, makes millions on customers per year. I understand that sometimes things happen, but this started right after we booked our flight AND THE BAD EXPERIENCE DID NOT END UNTIL WE SET FOOT BACK TO OUR HOMETOWN. Please take note: #1 - The customer service number is buried on the internet and not listed on their website. I had to google it and still got the run around when someone finally answered. Trust me, the number is a secret. #2 – When you FINALLY find a customer service number, there is a long wait and when or if someone answers, they will not resolve your issues. Instead, they pass the buck to whatever airlines that they sold your ticket to. NO ONE TAKES OWNERSHIP #4- What airlines operates 365 days a year and around the clock but doesn’t have customer service reps to help you, the customer? BRITISH AIRWAYS that’s who. #5 - They will cancel your flight without notice and not notify you, AT ALL. NO EMAIL, NO TEXT. #6- If you are not the primary on your ticket you will get no notifications or even if you are the primary, you may or may not get notifications. #7 - If you pay for seats and you pick them, it doesn’t matter, they will cancel your seats and not refund your money and then play stupid. #8 - The flight may be cheaper, but it is not once you are done paying for seats. #9- They will route to another partner airline and not notify you #10 – If you have a connecting flight, they will cancel one leg and not the other and NOT NOTIFY YOU. I will never use them again. And if this review helps one person that heeds my advice, then my job is done.</td>\n",
       "      <td>1.0</td>\n",
       "      <td>\"cancel your flight without notice\"</td>\n",
       "      <td>23rd May 2023</td>\n",
       "    </tr>\n",
       "    <tr>\n",
       "      <th>1</th>\n",
       "      <td>Not Verified |  Easy check in on the way to Heathrow. The flight was on time with no issues. Our return flight to Valencia was booked for the afternoon and our long haul flight arrived early at Heathrow. This was with another airline and was not a connecting flight. I asked at the British Airways check in if we could be put onto the morning flight back to Valencia to avoid seven hours waiting at Heathrow. We had our flights changed with no cost and were checked in within five minutes. That is indeed customer service. Thank you.</td>\n",
       "      <td>1.0</td>\n",
       "      <td>\"flights changed with no cost\"</td>\n",
       "      <td>23rd May 2023</td>\n",
       "    </tr>\n",
       "    <tr>\n",
       "      <th>2</th>\n",
       "      <td>✅ Trip Verified |  Online check in worked fine. Quick security check. Once onboard quick flight up to Glasgow, water and snack provided. All in all very pleased. Cheap, quick and efficient.</td>\n",
       "      <td>1.0</td>\n",
       "      <td>\"Cheap, quick and efficient\"</td>\n",
       "      <td>23rd May 2023</td>\n",
       "    </tr>\n",
       "    <tr>\n",
       "      <th>3</th>\n",
       "      <td>✅ Trip Verified |. The BA first lounge at Terminal 5 was a  zoo at 2pm, dirty tables and used tableware everywhere. Worse than this, the usual atrocious boarding gate service, and boarding started 50 mins late. The flight was operated by a Finnair A320, which is barely low cost standard let alone business class. Hard, thin, uncomfortable seats, poor legroom and the cabin was simply tatty - I remain shocked that BA allow this, and it's time for BA's CEO and management focused on standards rather than bean counting. Finnair cabin staff were fundamentally courteous, but they provide a very trimmed down, budget airline type service, as the whole trip turned out to be - and yet this business class ticket was one of the more expensive on recent trips. I thought post Covid that BA were better for a few months, but with the many cost cuts they are making, they fall well below all other European full service Airlines.</td>\n",
       "      <td>1.0</td>\n",
       "      <td>\"the worst major European airline\"</td>\n",
       "      <td>22nd May 2023</td>\n",
       "    </tr>\n",
       "    <tr>\n",
       "      <th>4</th>\n",
       "      <td>Not Verified | Paid a quick visit to Nice yesterday from Heathrow. Decided to go Business class since my last short haul flight in Economy was a real crush and rather unpleasant. I paid over £300 for a business class round trip. I went into the to BA lounge in Terminal 5 which was very crowded. Being 6.30 in the morning I decided against having a drink and stuck to the breakfast offering. The cooked options did not look that appealing but the fresh fruit selection was very enjoyable. We subsequently discovered a much nicer BA lounge closer to the gate, B36, and waited there for 40 mins. Boarding was efficient and we got ourselves seated in 2A and 2C, seat 2B was blocked out, which acted as an additional table. There did not seem to be any difference in the width of the seat from the cramped seating in Economy but there may have been an additional inch of leg room. I think that BA are trying to outdo EasyJet in terms on no frills. It would not cost BA that much to supply Business class passengers with a complimentary newspaper to read during the flight. The inflight magazine is no longer available. There are no screens so there was zero in terms of in flight entertainment. The inflight WiFi was flaky at best and non-existent at other times. I was glad it was only a two hour flight. I really do not think the fare that we paid was worth the money</td>\n",
       "      <td>1.0</td>\n",
       "      <td>\"do not think the fare was worth the money\"</td>\n",
       "      <td>22nd May 2023</td>\n",
       "    </tr>\n",
       "  </tbody>\n",
       "</table></div>"
      ],
      "text/plain": [
       "                                          ReviewText  Rating  \\\n",
       "0  Not Verified | Top Ten REASONS to not use Brit...     1.0   \n",
       "1  Not Verified |  Easy check in on the way to He...     1.0   \n",
       "2  ✅ Trip Verified |  Online check in worked fine...     1.0   \n",
       "3  ✅ Trip Verified |. The BA first lounge at Term...     1.0   \n",
       "4  Not Verified | Paid a quick visit to Nice yest...     1.0   \n",
       "\n",
       "                                        Review     ReviewDate  \n",
       "0          \"cancel your flight without notice\"  23rd May 2023  \n",
       "1               \"flights changed with no cost\"  23rd May 2023  \n",
       "2                 \"Cheap, quick and efficient\"  23rd May 2023  \n",
       "3           \"the worst major European airline\"  22nd May 2023  \n",
       "4  \"do not think the fare was worth the money\"  22nd May 2023  "
      ]
     },
     "execution_count": 4,
     "metadata": {},
     "output_type": "execute_result"
    }
   ],
   "source": [
    "df.head()"
   ]
  },
  {
   "cell_type": "code",
   "execution_count": 4,
   "id": "27975110",
   "metadata": {},
   "outputs": [],
   "source": [
    "df.to_csv('BritishAirwaysReviews.csv')"
   ]
  },
  {
   "cell_type": "code",
   "execution_count": null,
   "id": "04fd7676",
   "metadata": {},
   "outputs": [],
   "source": []
  },
  {
   "cell_type": "code",
   "execution_count": null,
   "id": "e64219b1",
   "metadata": {},
   "outputs": [],
   "source": []
  },
  {
   "cell_type": "code",
   "execution_count": 5,
   "id": "9356602d",
   "metadata": {},
   "outputs": [
    {
     "name": "stdout",
     "output_type": "stream",
     "text": [
      "Medicine data has been successfully saved to medicine_data.csv.\n"
     ]
    }
   ],
   "source": [
    "import requests\n",
    "import csv\n",
    "from bs4 import BeautifulSoup\n",
    "\n",
    "def scrape_medicines():\n",
    "    url = 'https://www.1mg.com/drugs-all-medicines'\n",
    "    \n",
    "    response = requests.get(url)\n",
    "    soup = BeautifulSoup(response.content, 'html.parser')\n",
    "\n",
    "    medicines = []\n",
    "\n",
    "    # Find all A-Z labels\n",
    "    labels = soup.find_all('a', {'class': 'style__link-l4f3a-2'})\n",
    "\n",
    "    for label in labels:\n",
    "        label_url = base_url + label['href']\n",
    "\n",
    "        # Process each page for a given label\n",
    "        while label_url:\n",
    "            response = requests.get(label_url, headers=headers)\n",
    "            soup = BeautifulSoup(response.content, 'html.parser')\n",
    "\n",
    "            # Find all medicine cards on the current page\n",
    "            cards = soup.find_all('div', {'class': 'style__inner-container___3BZU9 style__product-grid___3noQW style__padding-top-bottom-12px___1-DPF'})            \n",
    "            for card in cards:\n",
    "                brand_name = card.find('div', {'class': 'style__font-bold___1k9Dl style__font-14px___YZZrf style__flex-row___2AKyf style__space-between___2mbvn style__padding-bottom-5px___2NrDR'}).text.strip()\n",
    "                composition = card.find('div', {'class': 'style__font-12px___2ru_e style__product-content___5PFBW style__display-inline-block___2y7gd'}).text.strip()\n",
    "                manufacturer = card.find('div', {'class': 'style__padding-bottom-5px___2NrDR'}).text.strip()\n",
    "                mrp = card.find('div', {'class': 'style__font-normal___2gZqF style__margin-left-8px___3Sw1d'}).text.strip()\n",
    "\n",
    "                medicine_data = {\n",
    "                    'Brand Name': brand_name,\n",
    "                    'Composition': composition,\n",
    "                    'Manufacturer': manufacturer,\n",
    "                    'MRP': mrp\n",
    "                }\n",
    "                medicines.append(medicine_data)\n",
    "\n",
    "            # Find the link to the next page (if available)\n",
    "            next_page_link = soup.find('a', {'class': 'style__pagination-next___2s6CL'})\n",
    "            label_url = base_url + next_page_link['href'] if next_page_link else None\n",
    "\n",
    "    return medicines\n",
    "\n",
    "def save_to_csv(data):\n",
    "    filename = 'medicine_data.csv'\n",
    "    fields = ['Brand Name', 'Composition', 'Manufacturer', 'MRP']\n",
    "\n",
    "    with open(filename, 'w', newline='', encoding='utf-8') as file:\n",
    "        writer = csv.DictWriter(file, fieldnames=fields)\n",
    "        writer.writeheader()\n",
    "        writer.writerows(data)\n",
    "\n",
    "    print(f'Medicine data has been successfully saved to {filename}.')\n",
    "\n",
    "# Scrape medicines\n",
    "medicines_data = scrape_medicines()\n",
    "\n",
    "# Save data to CSV file\n",
    "save_to_csv(medicines_data)\n"
   ]
  },
  {
   "cell_type": "code",
   "execution_count": null,
   "id": "19f18a1b",
   "metadata": {},
   "outputs": [],
   "source": []
  }
 ],
 "metadata": {
  "kernelspec": {
   "display_name": "Python 3 (ipykernel)",
   "language": "python",
   "name": "python3"
  },
  "language_info": {
   "codemirror_mode": {
    "name": "ipython",
    "version": 3
   },
   "file_extension": ".py",
   "mimetype": "text/x-python",
   "name": "python",
   "nbconvert_exporter": "python",
   "pygments_lexer": "ipython3",
   "version": "3.10.7"
  }
 },
 "nbformat": 4,
 "nbformat_minor": 5
}
