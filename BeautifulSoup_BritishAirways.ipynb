{
 "cells": [
  {
   "cell_type": "markdown",
   "id": "a1d2f964",
   "metadata": {},
   "source": [
    "# Scraping the British Airways customer reviews using BeautifulSoup."
   ]
  },
  {
   "cell_type": "code",
   "execution_count": 1,
   "id": "1382c195",
   "metadata": {},
   "outputs": [],
   "source": [
    "import requests\n",
    "from bs4 import BeautifulSoup"
   ]
  },
  {
   "cell_type": "code",
   "execution_count": 3,
   "id": "97f9ca71",
   "metadata": {},
   "outputs": [
    {
     "name": "stdout",
     "output_type": "stream",
     "text": [
      "                                          ReviewText  Rating  \\\n",
      "0  ✅ Trip Verified |  A serious medical problem a...     1.0   \n",
      "1  ✅ Trip Verified |  I haven't flown British Air...     1.0   \n",
      "2  Not Verified |  My itinerary was supposed to b...     1.0   \n",
      "3  ✅ Trip Verified |  Busy day at LHR and flight ...     1.0   \n",
      "4  ✅ Trip Verified | Worst seats I have ever enco...     1.0   \n",
      "\n",
      "                                              Review     ReviewDate  \n",
      "0                           \"the crew has helped me\"  1st June 2023  \n",
      "1                    \"check-in process was terrible\"  30th May 2023  \n",
      "2  \"the worst airline experience I've ever had to...  29th May 2023  \n",
      "3                                 \"Service was good\"  29th May 2023  \n",
      "4             \"Last time I will fly British Airways\"  27th May 2023  \n"
     ]
    }
   ],
   "source": [
    "# Create empty lists to store the data\n",
    "review_text = []\n",
    "rating = []\n",
    "review = []\n",
    "review_date = []\n",
    "\n",
    "# Loop through the available 355 pages of the reviews\n",
    "for i in range(1, 355):\n",
    "    # Define the URL to scrape\n",
    "    url = f\"https://www.airlinequality.com/airline-reviews/british-airways/page/{i}/\"\n",
    "\n",
    "    # Send a GET request to the URL\n",
    "    response = requests.get(url)\n",
    "\n",
    "    # Parsing the contents of the page using BeautifulSoup\n",
    "    soup = BeautifulSoup(response.content, 'html.parser')\n",
    "\n",
    "    # Find all the elements of reviews on the page\n",
    "    reviews = soup.find_all('article', {'itemprop': 'review'})\n",
    "\n",
    "    # Loop through each review element and extract the data\n",
    "    for r in reviews:\n",
    "        airline_name = r.find('span', {'itemprop': 'name'}).text.strip()\n",
    "        \n",
    "        # Extract the review text\n",
    "        review_text.append(r.find('div', {'class': 'text_content'}).text.strip())\n",
    "            \n",
    "        # Extract the rating\n",
    "        rating_value = r.find('span', {'class': 'star fill'}).text.strip()\n",
    "        rating.append(float(rating_value))\n",
    "        \n",
    "        # Extract the review\n",
    "        review.append(r.find('h2', {'class': 'text_header'}).text.strip())\n",
    "        \n",
    "        # Extract the review date\n",
    "        review_date.append(r.find('time', {'itemprop': 'datePublished'}).text.strip())\n",
    "\n",
    "# Create a pandas DataFrame from the extracted data\n",
    "df = pd.DataFrame({'ReviewText': review_text, 'Rating': rating, 'Review': review, 'ReviewDate': review_date})\n",
    "\n",
    "# Print the DataFrame\n",
    "print(df.head())"
   ]
  },
  {
   "cell_type": "code",
   "execution_count": 4,
   "id": "f38dbe17",
   "metadata": {},
   "outputs": [
    {
     "data": {
      "text/plain": [
       "(3540, 4)"
      ]
     },
     "execution_count": 4,
     "metadata": {},
     "output_type": "execute_result"
    }
   ],
   "source": [
    "df.shape"
   ]
  },
  {
   "cell_type": "code",
   "execution_count": 5,
   "id": "d4edf3b8",
   "metadata": {},
   "outputs": [
    {
     "data": {
      "text/html": [
       "<div><div id=dcb330f8-f572-49da-8ce9-43480c488869 style=\"display:none; background-color:#9D6CFF; color:white; width:200px; height:30px; padding-left:5px; border-radius:4px; flex-direction:row; justify-content:space-around; align-items:center;\" onmouseover=\"this.style.backgroundColor='#BA9BF8'\" onmouseout=\"this.style.backgroundColor='#9D6CFF'\" onclick=\"window.commands?.execute('create-mitosheet-from-dataframe-output');\">See Full Dataframe in Mito</div> <script> if (window.commands?.hasCommand('create-mitosheet-from-dataframe-output')) document.getElementById('dcb330f8-f572-49da-8ce9-43480c488869').style.display = 'flex' </script> <table border=\"1\" class=\"dataframe\">\n",
       "  <thead>\n",
       "    <tr style=\"text-align: right;\">\n",
       "      <th></th>\n",
       "      <th>ReviewText</th>\n",
       "      <th>Rating</th>\n",
       "      <th>Review</th>\n",
       "      <th>ReviewDate</th>\n",
       "    </tr>\n",
       "  </thead>\n",
       "  <tbody>\n",
       "    <tr>\n",
       "      <th>0</th>\n",
       "      <td>✅ Trip Verified |  A serious medical problem appeared while I was onboard. I informed the crew and they helped me out. Unfortunately I was in transit but travelling further became too difficult because of how unwell I became. Also I could not find my way back home in my condition. Thankfully the crew has helped me in every step of the journey until I returned back home. It was a stressful experience but the crew of British Airways made it way more tolerable.</td>\n",
       "      <td>1.0</td>\n",
       "      <td>\"the crew has helped me\"</td>\n",
       "      <td>1st June 2023</td>\n",
       "    </tr>\n",
       "    <tr>\n",
       "      <th>1</th>\n",
       "      <td>✅ Trip Verified |  I haven't flown British Airways before and will never fly them again! The check-in process was terrible and slow. There were over 30 people in the regular check in line and they had two agents working it. They had one agent working the first class line. It should not take that long to check people in especially when people should have checked in online ahead of time. Our group checked in online and almost missed our plane because of the slow counter service. We had to run to the gate and we did make it, but they were terrible!</td>\n",
       "      <td>1.0</td>\n",
       "      <td>\"check-in process was terrible\"</td>\n",
       "      <td>30th May 2023</td>\n",
       "    </tr>\n",
       "    <tr>\n",
       "      <th>2</th>\n",
       "      <td>Not Verified |  My itinerary was supposed to be Las Vegas-Chicago-London-Venice. When I landed in London Heathrow, I was stuck on the aircraft for 2 hours with no explanation as to why and because of such a delay I missed my connecting flight to Venice. Getting off the plane was when the real nightmare took place. Our flight had over 300 people aboard meaning many were in a rush to get to their flights or had already missed their flight. They put us into two lines, one of them being for people who missed their flight. I waited approximately 10 minutes just to come up to a clerk who told me \"Since I missed my flight I would have to go to the connecting flight BA service desks for further assistance.\" If I were to have known that was the only information I would receive I would have skipped being in that line altogether. When I went to the service desk where there were more than 60+ people standing in line, I waited 30+ minutes until a clerk came by passing everyone a pamphlet telling people to create an account online and to book our flights through the BA site since their systems were down and couldn't rebook anyone. It was a hassle doing anything through he BA site so I ended up calling the helpline. After waiting to be connected to a BA rep. I spoke with a woman who said I would have to call Iberia Airlines for a rebook, I called Iberia and they said since I booked through Expedia I would have to call them. Expedia then said I would have to call BA for the rebook so when I called BA again, the rep. said the only flight he could get me booked for was for the following Monday, mind you I was travelling since the 25th which was a Friday. All the hotels in the vicinity of the airport were booked, I was trying to figure out where my checked baggage went (I still don't have it), most of the customer service I got from BA reps was horrible service as if they could care less for the predicament their company caused me. They acted like I was inconveniencing them with \"my issues\". I also had to sleep in the airport waiting for my flight the next morning because hotels were booked. Overall my experience with British Airlines has been the worst airline experience I've ever had to deal with. I will never book with this company again. I would rather pay more money for a ticket in a different airline than buy through this company again.</td>\n",
       "      <td>1.0</td>\n",
       "      <td>\"the worst airline experience I've ever had to deal with\"</td>\n",
       "      <td>29th May 2023</td>\n",
       "    </tr>\n",
       "    <tr>\n",
       "      <th>3</th>\n",
       "      <td>✅ Trip Verified |  Busy day at LHR and flight full. Lounge crowded but B gates lounge quieter. Flight left on time, very professional crew, greeted by name and executive club status acknowledged and thanked for return custom. A nice touch. Service was good. Food average. Entertainment good. Early arrival, quick processing at JFK. All good.</td>\n",
       "      <td>1.0</td>\n",
       "      <td>\"Service was good\"</td>\n",
       "      <td>29th May 2023</td>\n",
       "    </tr>\n",
       "    <tr>\n",
       "      <th>4</th>\n",
       "      <td>✅ Trip Verified | Worst seats I have ever encountered in economy class. No leg room at all. I had to spread my legs to fit. Staff at the terminal rude. “Business class” offers the same seat, but with more legroom and they block the middle seat. They cram people in seats with no legroom and block off the same seat type at the front of the plane (where there is more legroom) just so the “business class” passenger has an empty seat between them. Plane is old with no onboard entertainment for a 3 hours flight. Last time I will fly British Airways.</td>\n",
       "      <td>1.0</td>\n",
       "      <td>\"Last time I will fly British Airways\"</td>\n",
       "      <td>27th May 2023</td>\n",
       "    </tr>\n",
       "  </tbody>\n",
       "</table></div>"
      ],
      "text/plain": [
       "                                          ReviewText  Rating  \\\n",
       "0  ✅ Trip Verified |  A serious medical problem a...     1.0   \n",
       "1  ✅ Trip Verified |  I haven't flown British Air...     1.0   \n",
       "2  Not Verified |  My itinerary was supposed to b...     1.0   \n",
       "3  ✅ Trip Verified |  Busy day at LHR and flight ...     1.0   \n",
       "4  ✅ Trip Verified | Worst seats I have ever enco...     1.0   \n",
       "\n",
       "                                              Review     ReviewDate  \n",
       "0                           \"the crew has helped me\"  1st June 2023  \n",
       "1                    \"check-in process was terrible\"  30th May 2023  \n",
       "2  \"the worst airline experience I've ever had to...  29th May 2023  \n",
       "3                                 \"Service was good\"  29th May 2023  \n",
       "4             \"Last time I will fly British Airways\"  27th May 2023  "
      ]
     },
     "execution_count": 5,
     "metadata": {},
     "output_type": "execute_result"
    }
   ],
   "source": [
    "df.head()"
   ]
  },
  {
   "cell_type": "code",
   "execution_count": 6,
   "id": "27975110",
   "metadata": {},
   "outputs": [],
   "source": [
    "# Saving the DataFrame using to_csv\n",
    "\n",
    "df.to_csv('BritishAirwaysReviews.csv')"
   ]
  }
 ],
 "metadata": {
  "kernelspec": {
   "display_name": "Python 3 (ipykernel)",
   "language": "python",
   "name": "python3"
  },
  "language_info": {
   "codemirror_mode": {
    "name": "ipython",
    "version": 3
   },
   "file_extension": ".py",
   "mimetype": "text/x-python",
   "name": "python",
   "nbconvert_exporter": "python",
   "pygments_lexer": "ipython3",
   "version": "3.10.7"
  }
 },
 "nbformat": 4,
 "nbformat_minor": 5
}
